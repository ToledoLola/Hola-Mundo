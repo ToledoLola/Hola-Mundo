{
  "nbformat": 4,
  "nbformat_minor": 0,
  "metadata": {
    "colab": {
      "provenance": [],
      "collapsed_sections": [],
      "authorship_tag": "ABX9TyOplQiVdMNV8XXmcUxrBw8G",
      "include_colab_link": true
    },
    "kernelspec": {
      "name": "python3",
      "display_name": "Python 3"
    },
    "language_info": {
      "name": "python"
    }
  },
  "cells": [
    {
      "cell_type": "markdown",
      "metadata": {
        "id": "view-in-github",
        "colab_type": "text"
      },
      "source": [
        "<a href=\"https://colab.research.google.com/github/ToledoLola/Hola-Mundo/blob/main/Copia_de_Untitled1_3_C_DOLORES_TOLEDO.ipynb\" target=\"_parent\"><img src=\"https://colab.research.google.com/assets/colab-badge.svg\" alt=\"Open In Colab\"/></a>"
      ]
    },
    {
      "cell_type": "markdown",
      "source": [
        "1. Escribir un programa que imprima la palabra hola"
      ],
      "metadata": {
        "id": "9wJZp7qlMCVE"
      }
    },
    {
      "cell_type": "code",
      "execution_count": null,
      "metadata": {
        "id": "mfrioRvBBpoS",
        "colab": {
          "base_uri": "https://localhost:8080/"
        },
        "outputId": "7759c8b3-837f-444f-8ae9-b71552805449"
      },
      "outputs": [
        {
          "output_type": "stream",
          "name": "stdout",
          "text": [
            "Hola\n"
          ]
        }
      ],
      "source": [
        "print (\"Hola\")\n",
        "     \n",
        "\n",
        "\n",
        "\n"
      ]
    },
    {
      "cell_type": "markdown",
      "source": [
        "2. Escribir un programa donde la palabra Hola este guardada en una variable, e imprimir esa variable."
      ],
      "metadata": {
        "id": "zdyU6nVjCUFe"
      }
    },
    {
      "cell_type": "code",
      "source": [
        "x= \"Hola\"\n",
        "print (x)"
      ],
      "metadata": {
        "colab": {
          "base_uri": "https://localhost:8080/"
        },
        "id": "VfTw_5m5MdQt",
        "outputId": "bd84543d-1262-459d-c6fa-b5c430e60cfa"
      },
      "execution_count": null,
      "outputs": [
        {
          "output_type": "stream",
          "name": "stdout",
          "text": [
            "Hola\n"
          ]
        }
      ]
    },
    {
      "cell_type": "markdown",
      "source": [
        "3.Escribir un programa que sume los números 1+2 y eleve el resultado al cuadrado"
      ],
      "metadata": {
        "id": "9WeBhmCxNFfc"
      }
    },
    {
      "cell_type": "code",
      "source": [
        "x= 1+2\n",
        "var= x**2\n",
        "print (var)\n"
      ],
      "metadata": {
        "colab": {
          "base_uri": "https://localhost:8080/"
        },
        "id": "_sEj1NQNNGP-",
        "outputId": "5a39bcee-2d86-4261-a65e-6fe290f6d260"
      },
      "execution_count": null,
      "outputs": [
        {
          "output_type": "stream",
          "name": "stdout",
          "text": [
            "9\n"
          ]
        }
      ]
    },
    {
      "cell_type": "markdown",
      "source": [
        "4.Escribir un programa que pregunte al usuario por dos números (first_number, second_number), cree una  variable (sum) que represente la suma de ambos, e imprima el valor de esta variable al cubo."
      ],
      "metadata": {
        "id": "Y7Ao2NulOMwf"
      }
    },
    {
      "cell_type": "code",
      "source": [
        " first_number = input(\"Escriba un número: \")\n",
        "second_number = input(\"Escriba otro número: \")\n",
        "sum = int(first_number) + int(second_number)\n",
        "print(sum**3)\n"
      ],
      "metadata": {
        "id": "54PPCMVuOOoM",
        "colab": {
          "base_uri": "https://localhost:8080/"
        },
        "outputId": "412f05b5-fa01-4828-f0cf-e8900255947d"
      },
      "execution_count": null,
      "outputs": [
        {
          "output_type": "stream",
          "name": "stdout",
          "text": [
            "Escriba un número: 3\n",
            "Escriba otro número: 2\n",
            "125\n"
          ]
        }
      ]
    },
    {
      "cell_type": "markdown",
      "source": [
        "5.Escribir un programa que cree una variable que sea una frase, por ejemplo Stranger Things, otra variable  que sea un número entero, por ejemplo 3, y otra variable que represente la suma de las dos primeras variables. Imprimir el valor de esta última variable (el resultado deberia ser Stranger Things 3)"
      ],
      "metadata": {
        "id": "er2so05vy7YX"
      }
    },
    {
      "cell_type": "code",
      "source": [
        "serie = \"Juego Tronos \"\n",
        "temporada = 4\n",
        "estreno = serie + str(temporada)\n",
        "print(estreno)"
      ],
      "metadata": {
        "colab": {
          "base_uri": "https://localhost:8080/"
        },
        "id": "dSthymb2zFBw",
        "outputId": "c55a5f4a-bec0-4f92-bdbe-cbef8fb0399d"
      },
      "execution_count": null,
      "outputs": [
        {
          "output_type": "stream",
          "name": "stdout",
          "text": [
            "Juego Tronos 4\n"
          ]
        }
      ]
    },
    {
      "cell_type": "markdown",
      "source": [
        "C.DOLORES TOLEDO RODRÍGUEZ"
      ],
      "metadata": {
        "id": "9_nMk_P_ztRI"
      }
    }
  ]
}